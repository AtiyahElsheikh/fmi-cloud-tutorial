{
 "cells": [
  {
   "cell_type": "markdown",
   "id": "endangered-bearing",
   "metadata": {},
   "source": [
    "## Install dependencies"
   ]
  },
  {
   "cell_type": "code",
   "execution_count": null,
   "id": "qxdVX-7uPyQ4",
   "metadata": {
    "id": "qxdVX-7uPyQ4"
   },
   "outputs": [],
   "source": []
  },
  {
   "cell_type": "markdown",
   "id": "aware-marijuana",
   "metadata": {},
   "source": [
    "## Download files"
   ]
  },
  {
   "cell_type": "code",
   "execution_count": null,
   "id": "UiueEhiIQbf_",
   "metadata": {
    "id": "UiueEhiIQbf_"
   },
   "outputs": [],
   "source": []
  },
  {
   "cell_type": "markdown",
   "id": "surface-denmark",
   "metadata": {},
   "source": [
    "## Display text and images"
   ]
  },
  {
   "cell_type": "markdown",
   "id": "civic-occurrence",
   "metadata": {
    "id": "civic-occurrence"
   },
   "source": []
  },
  {
   "cell_type": "markdown",
   "id": "proper-remainder",
   "metadata": {},
   "source": [
    "## Get information about the FMU"
   ]
  },
  {
   "cell_type": "code",
   "execution_count": null,
   "id": "unexpected-passport",
   "metadata": {},
   "outputs": [],
   "source": []
  },
  {
   "cell_type": "markdown",
   "id": "embedded-bouquet",
   "metadata": {},
   "source": [
    "## Simulate the FMU and plot the result"
   ]
  },
  {
   "cell_type": "code",
   "execution_count": null,
   "id": "undefined-rebate",
   "metadata": {
    "colab": {
     "base_uri": "https://localhost:8080/",
     "height": 427
    },
    "id": "undefined-rebate",
    "outputId": "0fa63ead-bf19-4c24-bdfa-e0f291760f52"
   },
   "outputs": [],
   "source": []
  },
  {
   "cell_type": "markdown",
   "id": "promising-wrestling",
   "metadata": {},
   "source": [
    "## Upload files to the notebook"
   ]
  },
  {
   "cell_type": "code",
   "execution_count": null,
   "id": "compliant-expansion",
   "metadata": {},
   "outputs": [],
   "source": []
  },
  {
   "cell_type": "markdown",
   "id": "light-tragedy",
   "metadata": {},
   "source": [
    "## Download files from the notebook"
   ]
  },
  {
   "cell_type": "code",
   "execution_count": null,
   "id": "plastic-audio",
   "metadata": {},
   "outputs": [],
   "source": []
  },
  {
   "cell_type": "markdown",
   "id": "excellent-barbados",
   "metadata": {},
   "source": [
    "## Show docstring"
   ]
  },
  {
   "cell_type": "code",
   "execution_count": null,
   "id": "looking-tragedy",
   "metadata": {},
   "outputs": [],
   "source": []
  },
  {
   "cell_type": "markdown",
   "id": "military-beauty",
   "metadata": {
    "id": "hired-technician"
   },
   "source": [
    "## Open documentation"
   ]
  },
  {
   "cell_type": "code",
   "execution_count": null,
   "id": "warming-michael",
   "metadata": {},
   "outputs": [],
   "source": []
  },
  {
   "cell_type": "markdown",
   "id": "earned-surgeon",
   "metadata": {},
   "source": [
    "## Access the source code"
   ]
  },
  {
   "cell_type": "code",
   "execution_count": null,
   "id": "alternative-basin",
   "metadata": {},
   "outputs": [],
   "source": []
  },
  {
   "cell_type": "markdown",
   "id": "sharp-courage",
   "metadata": {},
   "source": [
    "## Show progress of long running simulations"
   ]
  },
  {
   "cell_type": "code",
   "execution_count": null,
   "id": "amino-suspect",
   "metadata": {},
   "outputs": [],
   "source": []
  },
  {
   "cell_type": "markdown",
   "id": "available-iraqi",
   "metadata": {},
   "source": [
    "## Move code to a library module"
   ]
  },
  {
   "cell_type": "code",
   "execution_count": null,
   "id": "victorian-infection",
   "metadata": {},
   "outputs": [],
   "source": []
  },
  {
   "cell_type": "markdown",
   "id": "incorrect-archives",
   "metadata": {},
   "source": [
    "## Compile the platform binary from source"
   ]
  },
  {
   "cell_type": "code",
   "execution_count": null,
   "id": "personalized-switzerland",
   "metadata": {},
   "outputs": [],
   "source": []
  }
 ],
 "metadata": {
  "colab": {
   "name": "Heater.ipynb",
   "provenance": []
  },
  "kernelspec": {
   "display_name": "Python 3",
   "language": "python",
   "name": "python3"
  },
  "language_info": {
   "codemirror_mode": {
    "name": "ipython",
    "version": 3
   },
   "file_extension": ".py",
   "mimetype": "text/x-python",
   "name": "python",
   "nbconvert_exporter": "python",
   "pygments_lexer": "ipython3",
   "version": "3.6.5"
  }
 },
 "nbformat": 4,
 "nbformat_minor": 5
}
