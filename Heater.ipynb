{
 "cells": [
  {
   "cell_type": "markdown",
   "id": "fewer-flood",
   "metadata": {},
   "source": [
    "## Install dependencies"
   ]
  },
  {
   "cell_type": "code",
   "execution_count": 4,
   "id": "qxdVX-7uPyQ4",
   "metadata": {
    "id": "qxdVX-7uPyQ4"
   },
   "outputs": [],
   "source": [
    "try:\n",
    "    import fmpy\n",
    "except:\n",
    "    !pip install fmpy"
   ]
  },
  {
   "cell_type": "markdown",
   "id": "ready-limit",
   "metadata": {},
   "source": [
    "## Download files"
   ]
  },
  {
   "cell_type": "code",
   "execution_count": null,
   "id": "UiueEhiIQbf_",
   "metadata": {
    "id": "UiueEhiIQbf_"
   },
   "outputs": [],
   "source": [
    "from fmpy.util import download_file\n",
    "\n",
    "download_file(url='https://github.com/t-sommer/fmi-webapp-tutorial/raw/main/Heater.fmu',\n",
    "              checksum='fe5beced10f7dcf3c3aa453dafa6f60da0f7a5071ad8b2d650bdc7dcc6237246')"
   ]
  },
  {
   "cell_type": "markdown",
   "id": "british-winner",
   "metadata": {},
   "source": [
    "## Display text and images"
   ]
  },
  {
   "cell_type": "markdown",
   "id": "civic-occurrence",
   "metadata": {
    "id": "civic-occurrence"
   },
   "source": [
    "See https://www.markdownguide.org/cheat-sheet/ for more Markdown syntax.\n",
    "\n",
    "![Heater model](https://github.com/t-sommer/fmi-webapp-tutorial/blob/main/Heater.png?raw=1)"
   ]
  },
  {
   "cell_type": "markdown",
   "id": "magnetic-commitment",
   "metadata": {},
   "source": [
    "## Get information about the FMU"
   ]
  },
  {
   "cell_type": "code",
   "execution_count": null,
   "id": "known-woman",
   "metadata": {},
   "outputs": [],
   "source": [
    "from fmpy import dump\n",
    "\n",
    "dump('Heater.fmu')"
   ]
  },
  {
   "cell_type": "markdown",
   "id": "tired-species",
   "metadata": {},
   "source": [
    "## Simulate an FMU and plot the result"
   ]
  },
  {
   "cell_type": "code",
   "execution_count": null,
   "id": "undefined-rebate",
   "metadata": {
    "colab": {
     "base_uri": "https://localhost:8080/",
     "height": 427
    },
    "id": "undefined-rebate",
    "outputId": "0fa63ead-bf19-4c24-bdfa-e0f291760f52"
   },
   "outputs": [],
   "source": [
    "import fmpy\n",
    "from fmpy import simulate_fmu, plot_result\n",
    "\n",
    "fmpy.plot_library = 'plotly'  # experimental\n",
    "\n",
    "\n",
    "filename = 'Heater.fmu'\n",
    "\n",
    "start_values = {\n",
    "    # variable                           start   unit      description\n",
    "    'TAmb':                            (293.15, 'K'),    # Ambient temperature\n",
    "    'TDif':                                 (2, 'K'),    # Error in temperature\n",
    "    'constantVoltage.V':                   (10, 'V'),    # Value of constant voltage\n",
    "    'heatCapacitor.C':                      (1, 'J/K'),  # Heat capacity of element (= cp*m)\n",
    "    'resistor.R':                          (10, 'Ohm'),  # Resistance at temperature T_ref\n",
    "    'resistor.T_ref':                  (293.15, 'K'),    # Reference temperature\n",
    "    'resistor.alpha':     (0.00392156862745098, '1/K'),  # Temperature coefficient of resistance (R_actual = R*(1 + alpha*(T_heatPort - T_ref))\n",
    "    'thermalConductor.G':                 (0.1, 'W/K'),  # Constant thermal conductance of material\n",
    "    'idealSwitch.Ron':                  (1E-05, 'Ohm'),  # Closed switch resistance\n",
    "    'idealSwitch.Goff':                 (1E-05, 'S'),    # Opened switch conductance\n",
    "}\n",
    "\n",
    "output = [\n",
    "    'TRes',  # Resulting temperature\n",
    "    'T',     # Absolute temperature in degree Celsius as output signal\n",
    "]\n",
    "\n",
    "result = simulate_fmu(filename, start_values=start_values, output=output, stop_time=50.0)\n",
    "\n",
    "plot_result(result)"
   ]
  },
  {
   "cell_type": "markdown",
   "id": "divided-queensland",
   "metadata": {},
   "source": [
    "## Show docstring"
   ]
  },
  {
   "cell_type": "code",
   "execution_count": null,
   "id": "vulnerable-wallet",
   "metadata": {},
   "outputs": [],
   "source": [
    "help(dump)"
   ]
  },
  {
   "cell_type": "markdown",
   "id": "binary-barbados",
   "metadata": {
    "id": "hired-technician"
   },
   "source": [
    "## Open documentation"
   ]
  },
  {
   "cell_type": "code",
   "execution_count": null,
   "id": "threatened-canon",
   "metadata": {},
   "outputs": [],
   "source": [
    "dump?"
   ]
  },
  {
   "cell_type": "markdown",
   "id": "lesbian-recipient",
   "metadata": {},
   "source": [
    "## Access the source code"
   ]
  },
  {
   "cell_type": "code",
   "execution_count": null,
   "id": "simple-malta",
   "metadata": {},
   "outputs": [],
   "source": [
    "dump??"
   ]
  }
 ],
 "metadata": {
  "colab": {
   "name": "Heater.ipynb",
   "provenance": []
  },
  "kernelspec": {
   "display_name": "Python 3",
   "language": "python",
   "name": "python3"
  },
  "language_info": {
   "codemirror_mode": {
    "name": "ipython",
    "version": 3
   },
   "file_extension": ".py",
   "mimetype": "text/x-python",
   "name": "python",
   "nbconvert_exporter": "python",
   "pygments_lexer": "ipython3",
   "version": "3.6.5"
  }
 },
 "nbformat": 4,
 "nbformat_minor": 5
}
