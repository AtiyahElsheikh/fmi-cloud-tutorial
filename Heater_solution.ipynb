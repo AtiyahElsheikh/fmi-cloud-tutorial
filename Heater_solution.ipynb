{
 "cells": [
  {
   "cell_type": "markdown",
   "id": "ece7f451",
   "metadata": {},
   "source": [
    "## Install dependencies"
   ]
  },
  {
   "cell_type": "code",
   "execution_count": null,
   "id": "cf9b5101",
   "metadata": {
    "id": "qxdVX-7uPyQ4"
   },
   "outputs": [],
   "source": [
    "try:\n",
    "    # some dependencies might not be installed (e.g. on Google Colab)\n",
    "    import fmpy\n",
    "except:\n",
    "    # install the required packages\n",
    "    !pip install fmpy\n",
    "    \n",
    "try:\n",
    "    # determine if we're running on Google Colab\n",
    "    from google.colab import files\n",
    "    is_colab = True\n",
    "except:\n",
    "    is_colab = False"
   ]
  },
  {
   "cell_type": "markdown",
   "id": "15e6058c",
   "metadata": {},
   "source": [
    "## Download files"
   ]
  },
  {
   "cell_type": "code",
   "execution_count": null,
   "id": "3562a975",
   "metadata": {
    "id": "UiueEhiIQbf_",
    "scrolled": true
   },
   "outputs": [],
   "source": [
    "from fmpy.util import download_file\n",
    "\n",
    "# download a file from an URL\n",
    "download_file(url='https://github.com/t-sommer/fmi-cloud-tutorial/raw/main/Heater.fmu',\n",
    "              checksum='fbc94cefe63e81f7da4872d794340c0e65a21e989846a294962e070dc403dfcb')"
   ]
  },
  {
   "cell_type": "markdown",
   "id": "4db3272c",
   "metadata": {},
   "source": [
    "## Display text and images"
   ]
  },
  {
   "cell_type": "markdown",
   "id": "15bdbfe0",
   "metadata": {
    "id": "civic-occurrence"
   },
   "source": [
    "Add _formatted_ **text**, images and tables using [Markdown](https://www.markdownguide.org/cheat-sheet/):\n",
    "\n",
    "### Heater\n",
    "\n",
    "A constant voltage of 10 V is applied to a temperature dependent resistor of 10*(1+(T-20C)/(235+20C)) Ohms, whose losses v^2/r are dissipated via a thermal conductance of 0.1 W/K to ambient temperature 20 degree C. The resistor is assumed to have a thermal capacity of 1 J/K, having ambient temperature at the beginning of the experiment.\n",
    "\n",
    "#### Parameters\n",
    "\n",
    "| Name  | Default | Description              |\n",
    "|-------|--------:|--------------------------|\n",
    "| TAmb  | 293.15  | Ambient temperature [K]  |\n",
    "| TDif  | 2       | Error in temperature [K] |\n",
    "\n",
    "\n",
    "![Heater model](https://raw.githubusercontent.com/t-sommer/fmi-cloud-tutorial/main/assets/Heater.png)"
   ]
  },
  {
   "cell_type": "markdown",
   "id": "2afebf1a",
   "metadata": {},
   "source": [
    "## Get information about the FMU"
   ]
  },
  {
   "cell_type": "code",
   "execution_count": null,
   "id": "7882933d",
   "metadata": {},
   "outputs": [],
   "source": [
    "from fmpy import dump\n",
    "\n",
    "# print information about the FMU\n",
    "dump('Heater.fmu', causalities=['input', 'output', 'parameter'])"
   ]
  },
  {
   "cell_type": "markdown",
   "id": "c07aa648",
   "metadata": {},
   "source": [
    "## Simulate the FMU and plot the result"
   ]
  },
  {
   "cell_type": "code",
   "execution_count": null,
   "id": "452fe58a",
   "metadata": {
    "colab": {
     "base_uri": "https://localhost:8080/",
     "height": 427
    },
    "id": "undefined-rebate",
    "outputId": "0fa63ead-bf19-4c24-bdfa-e0f291760f52"
   },
   "outputs": [],
   "source": [
    "# hint: you can conveniently generat a Jupyter notebook with the\n",
    "# FMPy GUI (Tools > Create Jupyter Notebook...) or with the command\n",
    "# fmpy create-jupyter-notebook <MyModel.fmu>\n",
    "\n",
    "import os\n",
    "import fmpy\n",
    "from fmpy import simulate_fmu, plot_result, read_csv\n",
    "\n",
    "fmpy.plot_library = 'plotly'  # experimental\n",
    "\n",
    "\n",
    "filename = 'Heater.fmu'\n",
    "\n",
    "start_values = {\n",
    "    # variable                           start   unit      description\n",
    "    'TAmb':                            (293.15, 'K'),    # Ambient temperature\n",
    "    'TDif':                                 (2, 'K'),    # Error in temperature\n",
    "    'constantVoltage.V':                   (10, 'V'),    # Value of constant voltage\n",
    "    'heatCapacitor.C':                      (1, 'J/K'),  # Heat capacity of element (= cp*m)\n",
    "    'resistor.R':                          (10, 'Ohm'),  # Resistance at temperature T_ref\n",
    "    'resistor.T_ref':                  (293.15, 'K'),    # Reference temperature\n",
    "    'resistor.alpha':     (0.00392156862745098, '1/K'),  # Temperature coefficient of resistance (R_actual = R*(1 + alpha*(T_heatPort - T_ref))\n",
    "    'thermalConductor.G':                 (0.1, 'W/K'),  # Constant thermal conductance of material\n",
    "}\n",
    "\n",
    "# read input.csv (if it exists)\n",
    "input = read_csv(\"input.csv\") if os.path.isfile(\"input.csv\") else None\n",
    "\n",
    "# define the variables to record\n",
    "output = [\n",
    "    'u',     # true => switch open, false => p--n connected\n",
    "    'TRes',  # Resulting temperature\n",
    "    'T',     # Absolute temperature in degree Celsius as output signal\n",
    "]\n",
    "\n",
    "# simulate the FMU\n",
    "result = simulate_fmu(filename, start_values=start_values, input=input, output=output, stop_time=50.0)\n",
    "\n",
    "# plot the simulation results\n",
    "plot_result(result)"
   ]
  },
  {
   "cell_type": "markdown",
   "id": "edf4fd99",
   "metadata": {},
   "source": [
    "## Upload files to the notebook"
   ]
  },
  {
   "cell_type": "code",
   "execution_count": null,
   "id": "600ad762",
   "metadata": {},
   "outputs": [],
   "source": [
    "if is_colab:\n",
    "    # this only works in Google Colab\n",
    "    uploaded = files.upload()\n",
    "else:\n",
    "    # use this in Jupyter\n",
    "    from ipywidgets import FileUpload\n",
    "    from IPython.display import display\n",
    "    import time\n",
    "    uploaded = FileUpload(accept='.csv')\n",
    "    display(uploaded)\n",
    "\n",
    "    "
   ]
  },
  {
   "cell_type": "code",
   "execution_count": null,
   "id": "bc22208b",
   "metadata": {},
   "outputs": [],
   "source": [
    "if not is_colab:\n",
    "    if uploaded.data:\n",
    "        # write the file to disk\n",
    "        with open(\"input.csv\", \"w+b\") as i:\n",
    "            i.write(uploaded.data[0])\n",
    "        print(\"File saved as 'input.csv'.\")\n",
    "    else:\n",
    "        print(\"No file was uploaded!\")"
   ]
  },
  {
   "cell_type": "markdown",
   "id": "64fed33a",
   "metadata": {},
   "source": [
    "## Download files from the notebook"
   ]
  },
  {
   "cell_type": "code",
   "execution_count": null,
   "id": "67a50bf6",
   "metadata": {},
   "outputs": [],
   "source": [
    "from fmpy import write_csv\n",
    "\n",
    "# write the result to disk as a CSV\n",
    "write_csv('Heater_out.csv', result)\n",
    "\n",
    "if is_colab:\n",
    "    # this only works in Google Colab\n",
    "    files.download('Heater_out.csv')\n",
    "else:\n",
    "    # use this in Jupyter\n",
    "    from IPython.display import FileLink\n",
    "    from fmpy import write_csv\n",
    "    display(FileLink('Heater_out.csv'))"
   ]
  },
  {
   "cell_type": "markdown",
   "id": "76baaa63",
   "metadata": {},
   "source": [
    "## Show docstring"
   ]
  },
  {
   "cell_type": "code",
   "execution_count": null,
   "id": "1402cd4e",
   "metadata": {},
   "outputs": [],
   "source": [
    "help(dump)"
   ]
  },
  {
   "cell_type": "markdown",
   "id": "e93e35dc",
   "metadata": {
    "id": "hired-technician"
   },
   "source": [
    "## Open documentation"
   ]
  },
  {
   "cell_type": "code",
   "execution_count": null,
   "id": "7a317b43",
   "metadata": {},
   "outputs": [],
   "source": [
    "dump?"
   ]
  },
  {
   "cell_type": "markdown",
   "id": "3fa3e59e",
   "metadata": {},
   "source": [
    "## Access the source code"
   ]
  },
  {
   "cell_type": "code",
   "execution_count": null,
   "id": "c3b33fcf",
   "metadata": {},
   "outputs": [],
   "source": [
    "dump??"
   ]
  },
  {
   "cell_type": "markdown",
   "id": "7379946c",
   "metadata": {},
   "source": [
    "## Show progress of long running simulations"
   ]
  },
  {
   "cell_type": "code",
   "execution_count": null,
   "id": "14e442df",
   "metadata": {},
   "outputs": [],
   "source": [
    "import threading\n",
    "from IPython.display import display\n",
    "import ipywidgets as widgets\n",
    "from time import sleep\n",
    "\n",
    "stop_time = 100\n",
    "\n",
    "progress = widgets.FloatProgress(value=0, min=0, max=stop_time, description='Simulating...')\n",
    "\n",
    "# worker function that runs the simulation asynchronously\n",
    "def work(progress):\n",
    "    \n",
    "    global result\n",
    "    \n",
    "    # callback function that gets called after every simulation step\n",
    "    def step_finished(time, recorder):\n",
    "        sleep(0.01)  # slow down the simulation\n",
    "        progress.value = time\n",
    "        return True\n",
    "    \n",
    "    result = simulate_fmu('Heater.fmu', stop_time=stop_time, step_finished=step_finished)\n",
    "\n",
    "# show the progress bar\n",
    "display(progress)\n",
    "\n",
    "# start the simulation thread\n",
    "thread = threading.Thread(target=work, args=(progress,))\n",
    "thread.start()\n",
    "thread.join()\n",
    "\n",
    "# hide the progress bar\n",
    "progress.layout.display = \"none\"\n",
    "\n",
    "# plot the simulation result\n",
    "plot_result(result)"
   ]
  },
  {
   "cell_type": "markdown",
   "id": "869c5cff",
   "metadata": {},
   "source": [
    "## Move code to a library module"
   ]
  },
  {
   "cell_type": "code",
   "execution_count": null,
   "id": "66215496",
   "metadata": {},
   "outputs": [],
   "source": [
    "# load the library file\n",
    "download_file(url='https://github.com/t-sommer/fmi-cloud-tutorial/raw/main/heater.py',\n",
    "              checksum='069029c29b6d9c589da012dc10d28fe9b2cbb6a658af5c53590016d2a68e5a07')\n",
    "\n",
    "from heater import simulate_heater\n",
    "\n",
    "# call the library function heater.py\n",
    "simulate_heater(TAmb=200, stop_time=10)"
   ]
  },
  {
   "cell_type": "markdown",
   "id": "3ce0f07d",
   "metadata": {},
   "source": [
    "## Compile the platform binary from source"
   ]
  },
  {
   "cell_type": "code",
   "execution_count": null,
   "id": "4eab881c",
   "metadata": {},
   "outputs": [],
   "source": [
    "!fmpy compile Heater.fmu"
   ]
  },
  {
   "cell_type": "code",
   "execution_count": null,
   "id": "51e0d168",
   "metadata": {},
   "outputs": [],
   "source": []
  }
 ],
 "metadata": {
  "colab": {
   "name": "Heater.ipynb",
   "provenance": []
  },
  "kernelspec": {
   "display_name": "Python 3 (ipykernel)",
   "language": "python",
   "name": "python3"
  },
  "language_info": {
   "codemirror_mode": {
    "name": "ipython",
    "version": 3
   },
   "file_extension": ".py",
   "mimetype": "text/x-python",
   "name": "python",
   "nbconvert_exporter": "python",
   "pygments_lexer": "ipython3",
   "version": "3.9.7"
  }
 },
 "nbformat": 4,
 "nbformat_minor": 5
}
